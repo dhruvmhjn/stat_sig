{
  "nbformat": 4,
  "nbformat_minor": 0,
  "metadata": {
    "colab": {
      "provenance": [],
      "include_colab_link": true
    },
    "kernelspec": {
      "name": "python3",
      "display_name": "Python 3"
    },
    "language_info": {
      "name": "python"
    }
  },
  "cells": [
    {
      "cell_type": "markdown",
      "metadata": {
        "id": "view-in-github",
        "colab_type": "text"
      },
      "source": [
        "<a href=\"https://colab.research.google.com/github/dhruvmhjn/stat_sig/blob/main/Statsig_Workshop_P%26G_B2B_Metrics.ipynb\" target=\"_parent\"><img src=\"https://colab.research.google.com/assets/colab-badge.svg\" alt=\"Open In Colab\"/></a>"
      ]
    },
    {
      "cell_type": "code",
      "execution_count": null,
      "metadata": {
        "id": "qRZArpqLqD91"
      },
      "outputs": [],
      "source": [
        "import pandas as pd\n",
        "import uuid\n",
        "import random\n",
        "import seaborn as sns\n",
        "from datetime import datetime, timedelta\n",
        "import numpy as np\n",
        "import matplotlib.pyplot as plt\n",
        "import math\n",
        "from scipy.stats import binom\n",
        "from scipy.stats import ttest_ind_from_stats, ttest_ind"
      ]
    },
    {
      "cell_type": "code",
      "source": [
        "class DataSets:\n",
        "  _cache = {}\n",
        "\n",
        "  @classmethod\n",
        "  @property\n",
        "  # Dataset with a segmented b2b a-a test for evaluating stratification\n",
        "  # efficacy\n",
        "  def b2b_aa(self):\n",
        "    return self.get_dataset('b2b')\n",
        "\n",
        "  @classmethod\n",
        "  def get_dataset(self, dataset_name):\n",
        "    if dataset_name not in self._cache:\n",
        "      print(f\"Downloading {dataset_name}...\")\n",
        "      self._cache[dataset_name] = pd.read_csv(self.dataset_url(dataset_name))\n",
        "    else:\n",
        "      print(f\"Using cached values for {dataset_name}...\")\n",
        "    return self._cache[dataset_name]\n",
        "\n",
        "  @classmethod\n",
        "  def dataset_url(self, dataset_name):\n",
        "    urls = {\n",
        "        'revenue': 'https://drive.google.com/uc?id=11T2oNtRipN_en-En3ao0GX0gq3T8gFCT',\n",
        "        'outliers': 'https://drive.google.com/uc?id=1Kc1hFsDYU1G_TXdSVOexaFR05Ai0lMqg',\n",
        "        'b2b': 'https://drive.google.com/uc?id=1-ZCudCEocyQkKZMMKkKYXJ35fHCfmElS',\n",
        "    }\n",
        "    return urls[dataset_name]\n",
        "\n"
      ],
      "metadata": {
        "id": "ey0lbyFyKPMd"
      },
      "execution_count": null,
      "outputs": []
    },
    {
      "cell_type": "markdown",
      "source": [
        "# Basic Test"
      ],
      "metadata": {
        "id": "QW_ZmoYAM97y"
      }
    },
    {
      "cell_type": "code",
      "source": [
        "df = DataSets.b2b_aa\n",
        "\n",
        "for column in list(df.columns):\n",
        "  print(\"-\", column)"
      ],
      "metadata": {
        "colab": {
          "base_uri": "https://localhost:8080/"
        },
        "id": "nRCbj-nt36Rl",
        "outputId": "7490554a-b029-4a35-82da-0cddbcd651fc"
      },
      "execution_count": null,
      "outputs": [
        {
          "output_type": "stream",
          "name": "stdout",
          "text": [
            "Downloading b2b...\n",
            "- Unnamed: 0\n",
            "- company_id\n",
            "- group\n",
            "- segment\n",
            "- days_exposed\n",
            "- revenue\n"
          ]
        }
      ]
    },
    {
      "cell_type": "markdown",
      "source": [
        "## Results"
      ],
      "metadata": {
        "id": "hYoCoIPdNOhB"
      }
    },
    {
      "cell_type": "code",
      "source": [
        "results = ttest_ind(\n",
        "  df[df['group'] == 'test']['revenue'],\n",
        "  df[df['group'] == 'control']['revenue']\n",
        ")\n",
        "\n",
        "alpha = 0.05\n",
        "\n",
        "print(f\"\"\"\n",
        "  p-value: {results.pvalue:.4g}\n",
        "  conclusion: {\"Reject Ho\" if results.pvalue < alpha else \"Fail to reject Ho\"} with a p-value of {round(results.pvalue, 3)} at significance = {alpha}\n",
        "\"\"\")"
      ],
      "metadata": {
        "colab": {
          "base_uri": "https://localhost:8080/"
        },
        "id": "DNXSJWeNJ_Vl",
        "outputId": "58bd550e-69ad-4f99-f5eb-0b7cbaacf802"
      },
      "execution_count": null,
      "outputs": [
        {
          "output_type": "stream",
          "name": "stdout",
          "text": [
            "\n",
            "  p-value: 0.04918\n",
            "  conclusion: Reject Ho with a p-value of 0.049 at significance = 0.05\n",
            "\n"
          ]
        }
      ]
    },
    {
      "cell_type": "code",
      "source": [
        "print(\"Is this assignation dataset problematic?\\n\\n\")\n",
        "df.groupby(['group', 'segment']).agg(\n",
        "    records=('revenue', 'count'),\n",
        "    total_revenue=('revenue', 'sum'),\n",
        "    avg_revenue=('revenue', 'mean')\n",
        ").reset_index()"
      ],
      "metadata": {
        "colab": {
          "base_uri": "https://localhost:8080/",
          "height": 291
        },
        "id": "cyu_oOAebaEQ",
        "outputId": "4345ea86-98c6-42c4-e8c3-92b256d05bc8"
      },
      "execution_count": null,
      "outputs": [
        {
          "output_type": "stream",
          "name": "stdout",
          "text": [
            "Is this assignation dataset problematic?\n",
            "\n",
            "\n"
          ]
        },
        {
          "output_type": "execute_result",
          "data": {
            "text/plain": [
              "     group segment  records  total_revenue   avg_revenue\n",
              "0  control    HEAD        1   9.438915e+05  9.438915e+05\n",
              "1  control    TAIL      212   2.145098e+06  1.011839e+04\n",
              "2  control   TORSO       37   3.713347e+06  1.003607e+05\n",
              "3     test    HEAD        5   6.623456e+06  1.324691e+06\n",
              "4     test    TAIL      205   2.211951e+06  1.079000e+04\n",
              "5     test   TORSO       40   4.249317e+06  1.062329e+05"
            ],
            "text/html": [
              "\n",
              "  <div id=\"df-6404f9ea-4954-4952-afc0-c5e4a26caec2\" class=\"colab-df-container\">\n",
              "    <div>\n",
              "<style scoped>\n",
              "    .dataframe tbody tr th:only-of-type {\n",
              "        vertical-align: middle;\n",
              "    }\n",
              "\n",
              "    .dataframe tbody tr th {\n",
              "        vertical-align: top;\n",
              "    }\n",
              "\n",
              "    .dataframe thead th {\n",
              "        text-align: right;\n",
              "    }\n",
              "</style>\n",
              "<table border=\"1\" class=\"dataframe\">\n",
              "  <thead>\n",
              "    <tr style=\"text-align: right;\">\n",
              "      <th></th>\n",
              "      <th>group</th>\n",
              "      <th>segment</th>\n",
              "      <th>records</th>\n",
              "      <th>total_revenue</th>\n",
              "      <th>avg_revenue</th>\n",
              "    </tr>\n",
              "  </thead>\n",
              "  <tbody>\n",
              "    <tr>\n",
              "      <th>0</th>\n",
              "      <td>control</td>\n",
              "      <td>HEAD</td>\n",
              "      <td>1</td>\n",
              "      <td>9.438915e+05</td>\n",
              "      <td>9.438915e+05</td>\n",
              "    </tr>\n",
              "    <tr>\n",
              "      <th>1</th>\n",
              "      <td>control</td>\n",
              "      <td>TAIL</td>\n",
              "      <td>212</td>\n",
              "      <td>2.145098e+06</td>\n",
              "      <td>1.011839e+04</td>\n",
              "    </tr>\n",
              "    <tr>\n",
              "      <th>2</th>\n",
              "      <td>control</td>\n",
              "      <td>TORSO</td>\n",
              "      <td>37</td>\n",
              "      <td>3.713347e+06</td>\n",
              "      <td>1.003607e+05</td>\n",
              "    </tr>\n",
              "    <tr>\n",
              "      <th>3</th>\n",
              "      <td>test</td>\n",
              "      <td>HEAD</td>\n",
              "      <td>5</td>\n",
              "      <td>6.623456e+06</td>\n",
              "      <td>1.324691e+06</td>\n",
              "    </tr>\n",
              "    <tr>\n",
              "      <th>4</th>\n",
              "      <td>test</td>\n",
              "      <td>TAIL</td>\n",
              "      <td>205</td>\n",
              "      <td>2.211951e+06</td>\n",
              "      <td>1.079000e+04</td>\n",
              "    </tr>\n",
              "    <tr>\n",
              "      <th>5</th>\n",
              "      <td>test</td>\n",
              "      <td>TORSO</td>\n",
              "      <td>40</td>\n",
              "      <td>4.249317e+06</td>\n",
              "      <td>1.062329e+05</td>\n",
              "    </tr>\n",
              "  </tbody>\n",
              "</table>\n",
              "</div>\n",
              "    <div class=\"colab-df-buttons\">\n",
              "\n",
              "  <div class=\"colab-df-container\">\n",
              "    <button class=\"colab-df-convert\" onclick=\"convertToInteractive('df-6404f9ea-4954-4952-afc0-c5e4a26caec2')\"\n",
              "            title=\"Convert this dataframe to an interactive table.\"\n",
              "            style=\"display:none;\">\n",
              "\n",
              "  <svg xmlns=\"http://www.w3.org/2000/svg\" height=\"24px\" viewBox=\"0 -960 960 960\">\n",
              "    <path d=\"M120-120v-720h720v720H120Zm60-500h600v-160H180v160Zm220 220h160v-160H400v160Zm0 220h160v-160H400v160ZM180-400h160v-160H180v160Zm440 0h160v-160H620v160ZM180-180h160v-160H180v160Zm440 0h160v-160H620v160Z\"/>\n",
              "  </svg>\n",
              "    </button>\n",
              "\n",
              "  <style>\n",
              "    .colab-df-container {\n",
              "      display:flex;\n",
              "      gap: 12px;\n",
              "    }\n",
              "\n",
              "    .colab-df-convert {\n",
              "      background-color: #E8F0FE;\n",
              "      border: none;\n",
              "      border-radius: 50%;\n",
              "      cursor: pointer;\n",
              "      display: none;\n",
              "      fill: #1967D2;\n",
              "      height: 32px;\n",
              "      padding: 0 0 0 0;\n",
              "      width: 32px;\n",
              "    }\n",
              "\n",
              "    .colab-df-convert:hover {\n",
              "      background-color: #E2EBFA;\n",
              "      box-shadow: 0px 1px 2px rgba(60, 64, 67, 0.3), 0px 1px 3px 1px rgba(60, 64, 67, 0.15);\n",
              "      fill: #174EA6;\n",
              "    }\n",
              "\n",
              "    .colab-df-buttons div {\n",
              "      margin-bottom: 4px;\n",
              "    }\n",
              "\n",
              "    [theme=dark] .colab-df-convert {\n",
              "      background-color: #3B4455;\n",
              "      fill: #D2E3FC;\n",
              "    }\n",
              "\n",
              "    [theme=dark] .colab-df-convert:hover {\n",
              "      background-color: #434B5C;\n",
              "      box-shadow: 0px 1px 3px 1px rgba(0, 0, 0, 0.15);\n",
              "      filter: drop-shadow(0px 1px 2px rgba(0, 0, 0, 0.3));\n",
              "      fill: #FFFFFF;\n",
              "    }\n",
              "  </style>\n",
              "\n",
              "    <script>\n",
              "      const buttonEl =\n",
              "        document.querySelector('#df-6404f9ea-4954-4952-afc0-c5e4a26caec2 button.colab-df-convert');\n",
              "      buttonEl.style.display =\n",
              "        google.colab.kernel.accessAllowed ? 'block' : 'none';\n",
              "\n",
              "      async function convertToInteractive(key) {\n",
              "        const element = document.querySelector('#df-6404f9ea-4954-4952-afc0-c5e4a26caec2');\n",
              "        const dataTable =\n",
              "          await google.colab.kernel.invokeFunction('convertToInteractive',\n",
              "                                                    [key], {});\n",
              "        if (!dataTable) return;\n",
              "\n",
              "        const docLinkHtml = 'Like what you see? Visit the ' +\n",
              "          '<a target=\"_blank\" href=https://colab.research.google.com/notebooks/data_table.ipynb>data table notebook</a>'\n",
              "          + ' to learn more about interactive tables.';\n",
              "        element.innerHTML = '';\n",
              "        dataTable['output_type'] = 'display_data';\n",
              "        await google.colab.output.renderOutput(dataTable, element);\n",
              "        const docLink = document.createElement('div');\n",
              "        docLink.innerHTML = docLinkHtml;\n",
              "        element.appendChild(docLink);\n",
              "      }\n",
              "    </script>\n",
              "  </div>\n",
              "\n",
              "\n",
              "<div id=\"df-129b36f9-d670-4591-8d76-973c829302ca\">\n",
              "  <button class=\"colab-df-quickchart\" onclick=\"quickchart('df-129b36f9-d670-4591-8d76-973c829302ca')\"\n",
              "            title=\"Suggest charts\"\n",
              "            style=\"display:none;\">\n",
              "\n",
              "<svg xmlns=\"http://www.w3.org/2000/svg\" height=\"24px\"viewBox=\"0 0 24 24\"\n",
              "     width=\"24px\">\n",
              "    <g>\n",
              "        <path d=\"M19 3H5c-1.1 0-2 .9-2 2v14c0 1.1.9 2 2 2h14c1.1 0 2-.9 2-2V5c0-1.1-.9-2-2-2zM9 17H7v-7h2v7zm4 0h-2V7h2v10zm4 0h-2v-4h2v4z\"/>\n",
              "    </g>\n",
              "</svg>\n",
              "  </button>\n",
              "\n",
              "<style>\n",
              "  .colab-df-quickchart {\n",
              "      --bg-color: #E8F0FE;\n",
              "      --fill-color: #1967D2;\n",
              "      --hover-bg-color: #E2EBFA;\n",
              "      --hover-fill-color: #174EA6;\n",
              "      --disabled-fill-color: #AAA;\n",
              "      --disabled-bg-color: #DDD;\n",
              "  }\n",
              "\n",
              "  [theme=dark] .colab-df-quickchart {\n",
              "      --bg-color: #3B4455;\n",
              "      --fill-color: #D2E3FC;\n",
              "      --hover-bg-color: #434B5C;\n",
              "      --hover-fill-color: #FFFFFF;\n",
              "      --disabled-bg-color: #3B4455;\n",
              "      --disabled-fill-color: #666;\n",
              "  }\n",
              "\n",
              "  .colab-df-quickchart {\n",
              "    background-color: var(--bg-color);\n",
              "    border: none;\n",
              "    border-radius: 50%;\n",
              "    cursor: pointer;\n",
              "    display: none;\n",
              "    fill: var(--fill-color);\n",
              "    height: 32px;\n",
              "    padding: 0;\n",
              "    width: 32px;\n",
              "  }\n",
              "\n",
              "  .colab-df-quickchart:hover {\n",
              "    background-color: var(--hover-bg-color);\n",
              "    box-shadow: 0 1px 2px rgba(60, 64, 67, 0.3), 0 1px 3px 1px rgba(60, 64, 67, 0.15);\n",
              "    fill: var(--button-hover-fill-color);\n",
              "  }\n",
              "\n",
              "  .colab-df-quickchart-complete:disabled,\n",
              "  .colab-df-quickchart-complete:disabled:hover {\n",
              "    background-color: var(--disabled-bg-color);\n",
              "    fill: var(--disabled-fill-color);\n",
              "    box-shadow: none;\n",
              "  }\n",
              "\n",
              "  .colab-df-spinner {\n",
              "    border: 2px solid var(--fill-color);\n",
              "    border-color: transparent;\n",
              "    border-bottom-color: var(--fill-color);\n",
              "    animation:\n",
              "      spin 1s steps(1) infinite;\n",
              "  }\n",
              "\n",
              "  @keyframes spin {\n",
              "    0% {\n",
              "      border-color: transparent;\n",
              "      border-bottom-color: var(--fill-color);\n",
              "      border-left-color: var(--fill-color);\n",
              "    }\n",
              "    20% {\n",
              "      border-color: transparent;\n",
              "      border-left-color: var(--fill-color);\n",
              "      border-top-color: var(--fill-color);\n",
              "    }\n",
              "    30% {\n",
              "      border-color: transparent;\n",
              "      border-left-color: var(--fill-color);\n",
              "      border-top-color: var(--fill-color);\n",
              "      border-right-color: var(--fill-color);\n",
              "    }\n",
              "    40% {\n",
              "      border-color: transparent;\n",
              "      border-right-color: var(--fill-color);\n",
              "      border-top-color: var(--fill-color);\n",
              "    }\n",
              "    60% {\n",
              "      border-color: transparent;\n",
              "      border-right-color: var(--fill-color);\n",
              "    }\n",
              "    80% {\n",
              "      border-color: transparent;\n",
              "      border-right-color: var(--fill-color);\n",
              "      border-bottom-color: var(--fill-color);\n",
              "    }\n",
              "    90% {\n",
              "      border-color: transparent;\n",
              "      border-bottom-color: var(--fill-color);\n",
              "    }\n",
              "  }\n",
              "</style>\n",
              "\n",
              "  <script>\n",
              "    async function quickchart(key) {\n",
              "      const quickchartButtonEl =\n",
              "        document.querySelector('#' + key + ' button');\n",
              "      quickchartButtonEl.disabled = true;  // To prevent multiple clicks.\n",
              "      quickchartButtonEl.classList.add('colab-df-spinner');\n",
              "      try {\n",
              "        const charts = await google.colab.kernel.invokeFunction(\n",
              "            'suggestCharts', [key], {});\n",
              "      } catch (error) {\n",
              "        console.error('Error during call to suggestCharts:', error);\n",
              "      }\n",
              "      quickchartButtonEl.classList.remove('colab-df-spinner');\n",
              "      quickchartButtonEl.classList.add('colab-df-quickchart-complete');\n",
              "    }\n",
              "    (() => {\n",
              "      let quickchartButtonEl =\n",
              "        document.querySelector('#df-129b36f9-d670-4591-8d76-973c829302ca button');\n",
              "      quickchartButtonEl.style.display =\n",
              "        google.colab.kernel.accessAllowed ? 'block' : 'none';\n",
              "    })();\n",
              "  </script>\n",
              "</div>\n",
              "\n",
              "    </div>\n",
              "  </div>\n"
            ],
            "application/vnd.google.colaboratory.intrinsic+json": {
              "type": "dataframe",
              "summary": "{\n  \"name\": \")\",\n  \"rows\": 6,\n  \"fields\": [\n    {\n      \"column\": \"group\",\n      \"properties\": {\n        \"dtype\": \"category\",\n        \"num_unique_values\": 2,\n        \"samples\": [\n          \"test\",\n          \"control\"\n        ],\n        \"semantic_type\": \"\",\n        \"description\": \"\"\n      }\n    },\n    {\n      \"column\": \"segment\",\n      \"properties\": {\n        \"dtype\": \"string\",\n        \"num_unique_values\": 3,\n        \"samples\": [\n          \"HEAD\",\n          \"TAIL\"\n        ],\n        \"semantic_type\": \"\",\n        \"description\": \"\"\n      }\n    },\n    {\n      \"column\": \"records\",\n      \"properties\": {\n        \"dtype\": \"number\",\n        \"std\": 98,\n        \"min\": 1,\n        \"max\": 212,\n        \"num_unique_values\": 6,\n        \"samples\": [\n          1,\n          212\n        ],\n        \"semantic_type\": \"\",\n        \"description\": \"\"\n      }\n    },\n    {\n      \"column\": \"total_revenue\",\n      \"properties\": {\n        \"dtype\": \"number\",\n        \"std\": 2009231.0404401456,\n        \"min\": 943891.5073,\n        \"max\": 6623455.556,\n        \"num_unique_values\": 6,\n        \"samples\": [\n          943891.5073,\n          2145098.443262\n        ],\n        \"semantic_type\": \"\",\n        \"description\": \"\"\n      }\n    },\n    {\n      \"column\": \"avg_revenue\",\n      \"properties\": {\n        \"dtype\": \"number\",\n        \"std\": 570772.7739580366,\n        \"min\": 10118.388883311321,\n        \"max\": 1324691.1112,\n        \"num_unique_values\": 6,\n        \"samples\": [\n          943891.5073,\n          10118.388883311321\n        ],\n        \"semantic_type\": \"\",\n        \"description\": \"\"\n      }\n    }\n  ]\n}"
            }
          },
          "metadata": {},
          "execution_count": 108
        }
      ]
    },
    {
      "cell_type": "code",
      "source": [
        "print(\"This data was an AA test - group selection has no bearing on data output.\")\n",
        "print(\"The result was driven by an imbalance of assignments in the head segment.\")\n",
        "print(\"This fairly extreme result isn't all that rare!\")\n",
        "\n",
        "n = 6\n",
        "p = 0.5\n",
        "\n",
        "probability_1 = 1 - binom.cdf(5, n, p)\n",
        "probability_2 = binom.cdf(0, n, p)\n",
        "overall = probability_1 + probability_2\n",
        "\n",
        "print(f\"\"\"\n",
        "  Probability of test getting this extreme of an imbalance: {probability_1:.4g}\n",
        "  Probability of control getting this extreme of an imbalance: {probability_2:.4g}\n",
        "  Probability of either getting this extreme of an imbalance: {overall:.4g}\n",
        "\"\"\")"
      ],
      "metadata": {
        "colab": {
          "base_uri": "https://localhost:8080/"
        },
        "id": "cBSlx2EWcooE",
        "outputId": "e1898b50-056e-41b0-d4f1-57898a530010"
      },
      "execution_count": null,
      "outputs": [
        {
          "output_type": "stream",
          "name": "stdout",
          "text": [
            "This data was an AA test - group selection has no bearing on data output.\n",
            "The result was driven by an imbalance of assignments in the head segment.\n",
            "This fairly extreme result isn't all that rare!\n",
            "\n",
            "  Probability of test getting this extreme of an imbalance: 0.01562\n",
            "  Probability of control getting this extreme of an imbalance: 0.01562\n",
            "  Probability of either getting this extreme of an imbalance: 0.03125\n",
            "\n"
          ]
        }
      ]
    },
    {
      "cell_type": "markdown",
      "source": [
        "## A/A Testing"
      ],
      "metadata": {
        "id": "drpjyG9FOUuB"
      }
    },
    {
      "cell_type": "code",
      "source": [
        "print(\"AA Testing is running a test with no intervention to make sure you \"+\\\n",
        "      \"don't get false positives more than expected\")\n",
        "print(\"This can be done at the assignment level to make sure there's not \"+\\\n",
        "      \"issues with the assignment service,\\nor on analysis to evaluate the \"+\\\n",
        "      \"stats engine. For the latter, we can just shuffle assignments\\n\\n\")\n",
        "\n",
        "trials = 1000\n",
        "df_s = df.copy()\n",
        "\n",
        "deltas = []\n",
        "p_values = []\n",
        "\n",
        "for i in range(trials):\n",
        "  salt = str(uuid.uuid4())\n",
        "  df_s['group'] = df_s['company_id']\\\n",
        "    .apply(lambda x: 'test' if abs(hash(salt + x)) % 2 == 0 else 'control')\n",
        "\n",
        "  rt = df_s[df_s['group'] == 'test']['revenue']\n",
        "  rc = df_s[df_s['group'] == 'control']['revenue']\n",
        "\n",
        "  deltas.append((np.mean(rt) - np.mean(rc)) / np.mean(rc))\n",
        "  p_values.append(ttest_ind(rt, rc).pvalue)\n",
        "\n",
        "print(f\"{100*len([p for p in p_values if p < 0.05])/len(p_values)}% of results were statistically significant false positives\\n\\n\")\n",
        "\n",
        "plt.figure(figsize=(10, 5))\n",
        "sns.histplot(deltas, binwidth=0.1)\n",
        "plt.title(\"Distribution of Relative Deltas\", fontsize=16)\n",
        "plt.xlabel(\"Relative Metric Delta\", fontsize=12)\n",
        "plt.ylabel(\"Trials\", fontsize=12)\n",
        "plt.xlim(-1, 1.5)\n",
        "plt.show()\n"
      ],
      "metadata": {
        "id": "mhS5mV-3OZj3",
        "colab": {
          "base_uri": "https://localhost:8080/",
          "height": 636
        },
        "outputId": "e1f49802-bc67-4da7-8f7a-cb526e4808b0"
      },
      "execution_count": null,
      "outputs": [
        {
          "output_type": "stream",
          "name": "stdout",
          "text": [
            "AA Testing is running a test with no intervention to make sure you don't get false positives more than expected\n",
            "This can be done at the assignment level to make sure there's not issues with the assignment service,\n",
            "or on analysis to evaluate the stats engine. For the latter, we can just shuffle assignments\n",
            "\n",
            "\n",
            "5.3% of results were statistically significant false positives\n",
            "\n",
            "\n"
          ]
        },
        {
          "output_type": "display_data",
          "data": {
            "text/plain": [
              "<Figure size 1000x500 with 1 Axes>"
            ],
            "image/png": "[encoded data removed]"
          },
          "metadata": {}
        }
      ]
    },
    {
      "cell_type": "code",
      "source": [
        "print(\"Salt selection is a halfway form of stratified sampling that selects \"+\\\n",
        "  \"salts with good properties\")\n",
        "\n",
        "trials = 1000\n",
        "df_s = df.copy()\n",
        "\n",
        "deltas = []\n",
        "p_values = []\n",
        "\n",
        "totals = {\n",
        "    'HEAD': df[df['segment'] == 'HEAD'].shape[0],\n",
        "    'TORSO': df[df['segment'] == 'TORSO'].shape[0],\n",
        "    'TAIL': df[df['segment'] == 'TAIL'].shape[0],\n",
        "}\n",
        "\n",
        "# In practice we select the best salt out of N using the modified chi-sq approach\n",
        "# above. To demo the efficacy in a short runtime, since we\n",
        "# can't parallelize well, we're just doing a hacky version where we\n",
        "# make sure the head-segment distribution is balanced\n",
        "# quasi code for the real approach is included, but commented out\n",
        "salt_threshold = 0.005\n",
        "def is_salt_balanced(df_s):\n",
        "  # total_score = 0\n",
        "  # for segment in ['HEAD', 'TAIL', 'TORSO']:\n",
        "    # test_ct = df_s[(df_s['group'] == 'test') & (df_s['segment'] == segment)].shape[0]\n",
        "    # partial_chi = (test_ct - (totals[segment]/2))**2 / totals[segment] +\\\n",
        "    #   (totals[segment]/2 - test_ct)**2 / totals[segment]\n",
        "    # scaled_partial = partial_chi / math.sqrt(totals[segment])\n",
        "    # total_score += scaled_partial\n",
        "\n",
        "  return df_s[(df_s['group'] == 'test') & (df_s['segment'] == 'HEAD')].shape[0]\\\n",
        "     in [math.floor(totals['HEAD']/2), math.ceil(totals['HEAD']/2)]\n",
        "\n",
        "\n",
        "for i in range(trials):\n",
        "  salt_imbalanced = True\n",
        "  while salt_imbalanced:\n",
        "    salt = str(uuid.uuid4())\n",
        "    df_s['group'] = df_s['company_id']\\\n",
        "      .apply(lambda x: 'test' if abs(hash(salt + x)) % 2 == 0 else 'control')\n",
        "    salt_imbalanced = not is_salt_balanced(df_s)\n",
        "\n",
        "  rt = df_s[df_s['group'] == 'test']['revenue']\n",
        "  rc = df_s[df_s['group'] == 'control']['revenue']\n",
        "\n",
        "  deltas.append((np.mean(rt) - np.mean(rc)) / np.mean(rc))\n",
        "  p_values.append(ttest_ind(rt, rc).pvalue)\n",
        "\n",
        "print(f\"{100*len([p for p in p_values if p < 0.05])/len(p_values)}% of results were statistically significant false positives\\n\\n\")\n",
        "\n",
        "plt.figure(figsize=(10, 5))\n",
        "sns.histplot(deltas, binwidth=0.1)\n",
        "plt.title(\"Distribution of Relative Deltas\", fontsize=16)\n",
        "plt.xlabel(\"Relative Metric Delta\", fontsize=12)\n",
        "plt.ylabel(\"Trials\", fontsize=12)\n",
        "plt.xlim(-1, 1.5)\n",
        "plt.show()\n"
      ],
      "metadata": {
        "colab": {
          "base_uri": "https://localhost:8080/",
          "height": 564
        },
        "id": "BtFBFG7XguwH",
        "outputId": "5468fb4b-82c2-4770-c9c5-b0e7189748e7"
      },
      "execution_count": null,
      "outputs": [
        {
          "output_type": "stream",
          "name": "stdout",
          "text": [
            "Salt selection is a halfway form of stratified sampling that selects salts with good properties\n",
            "0.0% of results were statistically significant false positives\n",
            "\n",
            "\n"
          ]
        },
        {
          "output_type": "display_data",
          "data": {
            "text/plain": [
              "<Figure size 1000x500 with 1 Axes>"
            ],
            "image/png": "[encoded data removed]"
          },
          "metadata": {}
        }
      ]
    },
    {
      "cell_type": "code",
      "source": [
        "print(\"For discussion - what risks come with this approach?\\n\")\n",
        "print(\"What is this approach acheiving in practice?\")\n",
        "print(\" - Reducing variance?\")\n",
        "print(\" - Reducing false discovery rate?\")\n",
        "print(\" - Increasing effective power?\")"
      ],
      "metadata": {
        "colab": {
          "base_uri": "https://localhost:8080/"
        },
        "id": "slAFlbxCi1Kh",
        "outputId": "6818eaca-8487-4d74-f722-6f670617b950"
      },
      "execution_count": null,
      "outputs": [
        {
          "output_type": "stream",
          "name": "stdout",
          "text": [
            "For discussion - what risks come with this approach?\n",
            "\n",
            "What is this approach acheiving in practice?\n",
            " - Reducing variance?\n",
            " - Reducing false discovery rate?\n",
            " - Increasing effective power?\n"
          ]
        }
      ]
    },
    {
      "cell_type": "code",
      "source": [],
      "metadata": {
        "id": "eadJKq-gwc10"
      },
      "execution_count": null,
      "outputs": []
    }
  ]
}